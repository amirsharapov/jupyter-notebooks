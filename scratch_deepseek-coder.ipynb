{
 "cells": [
  {
   "cell_type": "code",
   "execution_count": 19,
   "id": "46798715-c4be-4e9c-b985-a336f17f79a0",
   "metadata": {
    "scrolled": true
   },
   "outputs": [
    {
     "name": "stdout",
     "output_type": "stream",
     "text": [
      "Channels:\n",
      " - pytorch\n",
      " - defaults\n",
      "Platform: linux-64\n",
      "Collecting package metadata (repodata.json): done\n",
      "Solving environment: done\n",
      "\n",
      "# All requested packages already installed.\n",
      "\n"
     ]
    }
   ],
   "source": [
    "!conda install pytorch torchvision torchaudio cudatoolkit=10.2 -c pytorch"
   ]
  },
  {
   "cell_type": "code",
   "execution_count": 20,
   "id": "245616dd-9b93-42bf-b65b-5d6f134dac0a",
   "metadata": {
    "scrolled": true
   },
   "outputs": [
    {
     "name": "stdout",
     "output_type": "stream",
     "text": [
      "Requirement already satisfied: transformers in /home/amir/miniconda3/envs/jupyter-notebooks/lib/python3.12/site-packages (4.39.3)\n",
      "Requirement already satisfied: filelock in /home/amir/miniconda3/envs/jupyter-notebooks/lib/python3.12/site-packages (from transformers) (3.13.1)\n",
      "Requirement already satisfied: huggingface-hub<1.0,>=0.19.3 in /home/amir/miniconda3/envs/jupyter-notebooks/lib/python3.12/site-packages (from transformers) (0.22.2)\n",
      "Requirement already satisfied: numpy>=1.17 in /home/amir/miniconda3/envs/jupyter-notebooks/lib/python3.12/site-packages (from transformers) (1.26.4)\n",
      "Requirement already satisfied: packaging>=20.0 in /home/amir/miniconda3/envs/jupyter-notebooks/lib/python3.12/site-packages (from transformers) (23.2)\n",
      "Requirement already satisfied: pyyaml>=5.1 in /home/amir/miniconda3/envs/jupyter-notebooks/lib/python3.12/site-packages (from transformers) (6.0.1)\n",
      "Requirement already satisfied: regex!=2019.12.17 in /home/amir/miniconda3/envs/jupyter-notebooks/lib/python3.12/site-packages (from transformers) (2024.4.16)\n",
      "Requirement already satisfied: requests in /home/amir/miniconda3/envs/jupyter-notebooks/lib/python3.12/site-packages (from transformers) (2.31.0)\n",
      "Requirement already satisfied: tokenizers<0.19,>=0.14 in /home/amir/miniconda3/envs/jupyter-notebooks/lib/python3.12/site-packages (from transformers) (0.15.2)\n",
      "Requirement already satisfied: safetensors>=0.4.1 in /home/amir/miniconda3/envs/jupyter-notebooks/lib/python3.12/site-packages (from transformers) (0.4.3)\n",
      "Requirement already satisfied: tqdm>=4.27 in /home/amir/miniconda3/envs/jupyter-notebooks/lib/python3.12/site-packages (from transformers) (4.66.2)\n",
      "Requirement already satisfied: fsspec>=2023.5.0 in /home/amir/miniconda3/envs/jupyter-notebooks/lib/python3.12/site-packages (from huggingface-hub<1.0,>=0.19.3->transformers) (2024.3.1)\n",
      "Requirement already satisfied: typing-extensions>=3.7.4.3 in /home/amir/miniconda3/envs/jupyter-notebooks/lib/python3.12/site-packages (from huggingface-hub<1.0,>=0.19.3->transformers) (4.9.0)\n",
      "Requirement already satisfied: charset-normalizer<4,>=2 in /home/amir/miniconda3/envs/jupyter-notebooks/lib/python3.12/site-packages (from requests->transformers) (2.0.4)\n",
      "Requirement already satisfied: idna<4,>=2.5 in /home/amir/miniconda3/envs/jupyter-notebooks/lib/python3.12/site-packages (from requests->transformers) (3.4)\n",
      "Requirement already satisfied: urllib3<3,>=1.21.1 in /home/amir/miniconda3/envs/jupyter-notebooks/lib/python3.12/site-packages (from requests->transformers) (2.1.0)\n",
      "Requirement already satisfied: certifi>=2017.4.17 in /home/amir/miniconda3/envs/jupyter-notebooks/lib/python3.12/site-packages (from requests->transformers) (2024.2.2)\n"
     ]
    }
   ],
   "source": [
    "!pip install transformers"
   ]
  },
  {
   "cell_type": "code",
   "execution_count": 18,
   "id": "132d4508-f3c7-475e-a785-1d5780c3c390",
   "metadata": {},
   "outputs": [
    {
     "name": "stdout",
     "output_type": "stream",
     "text": [
      "Consider using `hf_transfer` for faster downloads. This solution comes with some limitations. See https://huggingface.co/docs/huggingface_hub/hf_transfer for more details.\n",
      "downloading https://huggingface.co/TheBloke/deepseek-coder-6.7B-instruct-GGUF/resolve/main/deepseek-coder-6.7b-instruct.Q4_K_M.gguf to /home/amir/.cache/huggingface/hub/tmpsw9j1pim\n",
      "deepseek-coder-6.7b-instruct.Q4_K_M.gguf: 100%|█| 4.08G/4.08G [07:17<00:00, 9.32\n",
      "./deepseek-coder-6.7b-instruct.Q4_K_M.gguf\n"
     ]
    }
   ],
   "source": [
    "!huggingface-cli download TheBloke/deepseek-coder-6.7B-instruct-GGUF deepseek-coder-6.7b-instruct.Q4_K_M.gguf --local-dir . --local-dir-use-symlinks False"
   ]
  },
  {
   "cell_type": "code",
   "execution_count": 21,
   "id": "61e140f5-1870-4f83-8b6f-9172de5697f7",
   "metadata": {},
   "outputs": [],
   "source": [
    "from transformers import pipeline"
   ]
  },
  {
   "cell_type": "code",
   "execution_count": 27,
   "id": "454e9612-34ba-40db-8406-1927de10c992",
   "metadata": {},
   "outputs": [
    {
     "name": "stdout",
     "output_type": "stream",
     "text": [
      "Requirement already satisfied: llama-cpp-python in /home/amir/miniconda3/envs/jupyter-notebooks/lib/python3.12/site-packages (0.2.61)\n",
      "Collecting ctransformers[cuda]\n",
      "  Downloading ctransformers-0.2.27-py3-none-any.whl.metadata (17 kB)\n",
      "Requirement already satisfied: typing-extensions>=4.5.0 in /home/amir/miniconda3/envs/jupyter-notebooks/lib/python3.12/site-packages (from llama-cpp-python) (4.9.0)\n",
      "Requirement already satisfied: numpy>=1.20.0 in /home/amir/miniconda3/envs/jupyter-notebooks/lib/python3.12/site-packages (from llama-cpp-python) (1.26.4)\n",
      "Requirement already satisfied: diskcache>=5.6.1 in /home/amir/miniconda3/envs/jupyter-notebooks/lib/python3.12/site-packages (from llama-cpp-python) (5.6.3)\n",
      "Requirement already satisfied: jinja2>=2.11.3 in /home/amir/miniconda3/envs/jupyter-notebooks/lib/python3.12/site-packages (from llama-cpp-python) (3.1.3)\n",
      "Requirement already satisfied: huggingface-hub in /home/amir/miniconda3/envs/jupyter-notebooks/lib/python3.12/site-packages (from ctransformers[cuda]) (0.22.2)\n",
      "Collecting py-cpuinfo<10.0.0,>=9.0.0 (from ctransformers[cuda])\n",
      "  Downloading py_cpuinfo-9.0.0-py3-none-any.whl.metadata (794 bytes)\n",
      "Collecting nvidia-cublas-cu12 (from ctransformers[cuda])\n",
      "  Downloading nvidia_cublas_cu12-12.4.5.8-py3-none-manylinux2014_x86_64.whl.metadata (1.5 kB)\n",
      "Collecting nvidia-cuda-runtime-cu12 (from ctransformers[cuda])\n",
      "  Downloading nvidia_cuda_runtime_cu12-12.4.127-py3-none-manylinux2014_x86_64.whl.metadata (1.5 kB)\n",
      "Requirement already satisfied: MarkupSafe>=2.0 in /home/amir/miniconda3/envs/jupyter-notebooks/lib/python3.12/site-packages (from jinja2>=2.11.3->llama-cpp-python) (2.1.3)\n",
      "Requirement already satisfied: filelock in /home/amir/miniconda3/envs/jupyter-notebooks/lib/python3.12/site-packages (from huggingface-hub->ctransformers[cuda]) (3.13.1)\n",
      "Requirement already satisfied: fsspec>=2023.5.0 in /home/amir/miniconda3/envs/jupyter-notebooks/lib/python3.12/site-packages (from huggingface-hub->ctransformers[cuda]) (2024.3.1)\n",
      "Requirement already satisfied: packaging>=20.9 in /home/amir/miniconda3/envs/jupyter-notebooks/lib/python3.12/site-packages (from huggingface-hub->ctransformers[cuda]) (23.2)\n",
      "Requirement already satisfied: pyyaml>=5.1 in /home/amir/miniconda3/envs/jupyter-notebooks/lib/python3.12/site-packages (from huggingface-hub->ctransformers[cuda]) (6.0.1)\n",
      "Requirement already satisfied: requests in /home/amir/miniconda3/envs/jupyter-notebooks/lib/python3.12/site-packages (from huggingface-hub->ctransformers[cuda]) (2.31.0)\n",
      "Requirement already satisfied: tqdm>=4.42.1 in /home/amir/miniconda3/envs/jupyter-notebooks/lib/python3.12/site-packages (from huggingface-hub->ctransformers[cuda]) (4.66.2)\n",
      "Requirement already satisfied: charset-normalizer<4,>=2 in /home/amir/miniconda3/envs/jupyter-notebooks/lib/python3.12/site-packages (from requests->huggingface-hub->ctransformers[cuda]) (2.0.4)\n",
      "Requirement already satisfied: idna<4,>=2.5 in /home/amir/miniconda3/envs/jupyter-notebooks/lib/python3.12/site-packages (from requests->huggingface-hub->ctransformers[cuda]) (3.4)\n",
      "Requirement already satisfied: urllib3<3,>=1.21.1 in /home/amir/miniconda3/envs/jupyter-notebooks/lib/python3.12/site-packages (from requests->huggingface-hub->ctransformers[cuda]) (2.1.0)\n",
      "Requirement already satisfied: certifi>=2017.4.17 in /home/amir/miniconda3/envs/jupyter-notebooks/lib/python3.12/site-packages (from requests->huggingface-hub->ctransformers[cuda]) (2024.2.2)\n",
      "Downloading py_cpuinfo-9.0.0-py3-none-any.whl (22 kB)\n",
      "Downloading ctransformers-0.2.27-py3-none-any.whl (9.9 MB)\n",
      "\u001b[2K   \u001b[38;2;114;156;31m━━━━━━━━━━━━━━━━━━━━━━━━━━━━━━━━━━━━━━━━\u001b[0m \u001b[32m9.9/9.9 MB\u001b[0m \u001b[31m10.0 MB/s\u001b[0m eta \u001b[36m0:00:00\u001b[0mm eta \u001b[36m0:00:01\u001b[0m[36m0:00:01\u001b[0m\n",
      "\u001b[?25hDownloading nvidia_cublas_cu12-12.4.5.8-py3-none-manylinux2014_x86_64.whl (363.4 MB)\n",
      "\u001b[2K   \u001b[38;2;114;156;31m━━━━━━━━━━━━━━━━━━━━━━━━━━━━━━━━━━━━━━━━\u001b[0m \u001b[32m363.4/363.4 MB\u001b[0m \u001b[31m7.5 MB/s\u001b[0m eta \u001b[36m0:00:00\u001b[0mm eta \u001b[36m0:00:01\u001b[0mm36m0:00:01\u001b[0mm\n",
      "\u001b[?25hDownloading nvidia_cuda_runtime_cu12-12.4.127-py3-none-manylinux2014_x86_64.whl (883 kB)\n",
      "\u001b[2K   \u001b[38;2;114;156;31m━━━━━━━━━━━━━━━━━━━━━━━━━━━━━━━━━━━━━━━━\u001b[0m \u001b[32m883.7/883.7 kB\u001b[0m \u001b[31m7.3 MB/s\u001b[0m eta \u001b[36m0:00:00\u001b[0mm eta \u001b[36m0:00:01\u001b[0m00:01\u001b[0m:01\u001b[0m\n",
      "\u001b[?25hInstalling collected packages: py-cpuinfo, nvidia-cuda-runtime-cu12, nvidia-cublas-cu12, ctransformers\n",
      "Successfully installed ctransformers-0.2.27 nvidia-cublas-cu12-12.4.5.8 nvidia-cuda-runtime-cu12-12.4.127 py-cpuinfo-9.0.0\n"
     ]
    }
   ],
   "source": [
    "!pip3 install llama-cpp-python ctransformers[cuda]"
   ]
  },
  {
   "cell_type": "code",
   "execution_count": 1,
   "id": "888c11d3-9254-4581-acec-9a86ad2c8629",
   "metadata": {},
   "outputs": [
    {
     "name": "stdout",
     "output_type": "stream",
     "text": [
      "Channels:\n",
      " - defaults\n",
      " - pytorch\n",
      "Platform: linux-64\n",
      "Collecting package metadata (repodata.json): done\n",
      "Solving environment: done\n",
      "\n",
      "# All requested packages already installed.\n",
      "\n"
     ]
    }
   ],
   "source": [
    "!conda install numpy"
   ]
  },
  {
   "cell_type": "code",
   "execution_count": 3,
   "id": "362e531f-1abe-4dd1-b81e-12cb8cecf9a1",
   "metadata": {},
   "outputs": [
    {
     "name": "stdout",
     "output_type": "stream",
     "text": [
      "Channels:\n",
      " - defaults\n",
      " - pytorch\n",
      "Platform: linux-64\n",
      "Collecting package metadata (repodata.json): done\n",
      "Solving environment: / \u001b[33m\u001b[1mwarning  libmamba\u001b[m Added empty dependency for problem type SOLVER_RULE_UPDATE\n",
      "failed\n",
      "\n",
      "LibMambaUnsatisfiableError: Encountered problems while solving:\n",
      "  - nothing provides bleach 1.5.0 needed by tensorboard-1.6.0-py27hf484d3e_0\n",
      "\n",
      "Could not solve for environment specs\n",
      "The following packages are incompatible\n",
      "├─ \u001b[32mpin-1\u001b[0m is installable and it requires\n",
      "│  └─ \u001b[32mpython 3.12.* \u001b[0m, which can be installed;\n",
      "└─ \u001b[31mtensorflow\u001b[0m is not installable because there are no viable options\n",
      "   ├─ \u001b[31mtensorflow [1.10.0|1.11.0|...|2.1.0]\u001b[0m would require\n",
      "   │  └─ \u001b[31mpython 2.7.* \u001b[0m, which conflicts with any installable versions previously reported;\n",
      "   ├─ \u001b[31mtensorflow [1.10.0|1.9.0]\u001b[0m would require\n",
      "   │  └─ \u001b[31mpython 3.5.* \u001b[0m, which conflicts with any installable versions previously reported;\n",
      "   ├─ \u001b[31mtensorflow [1.10.0|1.11.0|...|2.2.0]\u001b[0m would require\n",
      "   │  └─ \u001b[31mpython 3.6.* \u001b[0m, which conflicts with any installable versions previously reported;\n",
      "   ├─ \u001b[31mtensorflow [1.10.0|1.8.0|1.9.0]\u001b[0m would require\n",
      "   │  └─ \u001b[31mtensorflow-base [==1.10.0 gpu_py27h3435052_0|==1.10.0 gpu_py35h3435052_0|...|==1.9.0 gpu_py36h9f529ab_1]\u001b[0m, which requires\n",
      "   │     └─ \u001b[31mcudatoolkit 8.0.* \u001b[0m, which does not exist (perhaps a missing channel);\n",
      "   ├─ \u001b[31mtensorflow [1.13.1|1.14.0|...|2.9.1]\u001b[0m would require\n",
      "   │  └─ \u001b[31mpython 3.7.* \u001b[0m, which conflicts with any installable versions previously reported;\n",
      "   ├─ \u001b[31mtensorflow [1.4.1|1.5.0|1.6.0|1.7.0]\u001b[0m would require\n",
      "   │  ├─ \u001b[31mtensorboard [>=1.6.0,<1.7.0 |>=1.7.0,<1.8.0 ]\u001b[0m but there are no viable options\n",
      "   │  │  ├─ \u001b[31mtensorboard [1.6.0|1.7.0|1.8.0]\u001b[0m would require\n",
      "   │  │  │  └─ \u001b[31mbleach 1.5.0 \u001b[0m, which does not exist (perhaps a missing channel);\n",
      "   │  │  └─ \u001b[31mtensorboard [1.6.0|1.7.0]\u001b[0m would require\n",
      "   │  │     └─ \u001b[31mbleach >=1.5.0,<1.5.1.0a0 \u001b[0m, which does not exist (perhaps a missing channel);\n",
      "   │  └─ \u001b[31mtensorflow-tensorboard [ |>=1.5.0,<1.6.0 ]\u001b[0m but there are no viable options\n",
      "   │     ├─ \u001b[31mtensorflow-tensorboard [0.4.0|1.5.1]\u001b[0m would require\n",
      "   │     │  └─ \u001b[31mbleach 1.5.0 \u001b[0m, which does not exist (perhaps a missing channel);\n",
      "   │     └─ \u001b[31mtensorflow-tensorboard 1.5.1\u001b[0m would require\n",
      "   │        └─ \u001b[31mbleach >=1.5.0,<1.5.1.0a0 \u001b[0m, which does not exist (perhaps a missing channel);\n",
      "   ├─ \u001b[31mtensorflow 1.8.0\u001b[0m would require\n",
      "   │  └─ \u001b[31mtensorboard >=1.8.0,<1.9.0 \u001b[0m, which cannot be installed (as previously explained);\n",
      "   ├─ \u001b[31mtensorflow [2.10.0|2.11.0|2.12.0|2.8.2|2.9.1]\u001b[0m would require\n",
      "   │  └─ \u001b[31mpython 3.10.* \u001b[0m, which conflicts with any installable versions previously reported;\n",
      "   ├─ \u001b[31mtensorflow [2.10.0|2.11.0|...|2.9.1]\u001b[0m would require\n",
      "   │  └─ \u001b[31mpython 3.8.* \u001b[0m, which conflicts with any installable versions previously reported;\n",
      "   ├─ \u001b[31mtensorflow [2.10.0|2.11.0|...|2.9.1]\u001b[0m would require\n",
      "   │  └─ \u001b[31mpython 3.9.* \u001b[0m, which conflicts with any installable versions previously reported;\n",
      "   └─ \u001b[31mtensorflow 2.12.0\u001b[0m would require\n",
      "      └─ \u001b[31mpython 3.11.* \u001b[0m, which conflicts with any installable versions previously reported.\n",
      "\n",
      "Pins seem to be involved in the conflict. Currently pinned specs:\n",
      " - python 3.12.* (labeled as 'pin-1')\n",
      "\n",
      "\n"
     ]
    }
   ],
   "source": [
    "!conda install tensorflow"
   ]
  },
  {
   "cell_type": "code",
   "execution_count": null,
   "id": "70fa9d60-3b44-4a39-aaab-336260b7c6c4",
   "metadata": {},
   "outputs": [
    {
     "data": {
      "application/vnd.jupyter.widget-view+json": {
       "model_id": "e9edfdc580ee47458155ae7e28f986dd",
       "version_major": 2,
       "version_minor": 0
      },
      "text/plain": [
       "Fetching 1 files:   0%|          | 0/1 [00:00<?, ?it/s]"
      ]
     },
     "metadata": {},
     "output_type": "display_data"
    },
    {
     "data": {
      "application/vnd.jupyter.widget-view+json": {
       "model_id": "2ab62e473bb148d6b5bf150c3ef52229",
       "version_major": 2,
       "version_minor": 0
      },
      "text/plain": [
       "Fetching 1 files:   0%|          | 0/1 [00:00<?, ?it/s]"
      ]
     },
     "metadata": {},
     "output_type": "display_data"
    }
   ],
   "source": [
    "from ctransformers import AutoModelForCausalLM\n",
    "\n",
    "# Set gpu_layers to the number of layers to offload to GPU. Set to 0 if no GPU acceleration is available on your system.\n",
    "llm = AutoModelForCausalLM.from_pretrained(\n",
    "    \"TheBloke/deepseek-coder-6.7B-instruct-GGUF\",\n",
    "    model_file=\"deepseek-coder-6.7b-instruct.Q4_K_M.gguf\",\n",
    "    model_type=\"deepseek\",\n",
    "    gpu_layers=10\n",
    ")\n",
    "\n",
    "print(llm(\"AI is going to\"))"
   ]
  }
 ],
 "metadata": {
  "kernelspec": {
   "display_name": "Python 3 (ipykernel)",
   "language": "python",
   "name": "python3"
  },
  "language_info": {
   "codemirror_mode": {
    "name": "ipython",
    "version": 3
   },
   "file_extension": ".py",
   "mimetype": "text/x-python",
   "name": "python",
   "nbconvert_exporter": "python",
   "pygments_lexer": "ipython3",
   "version": "3.12.1"
  }
 },
 "nbformat": 4,
 "nbformat_minor": 5
}
